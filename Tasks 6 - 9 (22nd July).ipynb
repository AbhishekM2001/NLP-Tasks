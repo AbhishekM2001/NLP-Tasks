{
 "cells": [
  {
   "cell_type": "markdown",
   "id": "acc4e92a",
   "metadata": {},
   "source": [
    "# Task 6: Stemming"
   ]
  },
  {
   "cell_type": "code",
   "execution_count": 16,
   "id": "0b78b1d2",
   "metadata": {},
   "outputs": [
    {
     "data": {
      "text/plain": [
       "'come'"
      ]
     },
     "execution_count": 16,
     "metadata": {},
     "output_type": "execute_result"
    }
   ],
   "source": [
    "import nltk\n",
    "from nltk.stem import PorterStemmer\n",
    "stemmerporter=PorterStemmer()\n",
    "# stemmerporter.stem('happiness')\n",
    "stemmerporter.stem('coming')"
   ]
  },
  {
   "cell_type": "code",
   "execution_count": 17,
   "id": "579a9a1c",
   "metadata": {},
   "outputs": [
    {
     "data": {
      "text/plain": [
       "'com'"
      ]
     },
     "execution_count": 17,
     "metadata": {},
     "output_type": "execute_result"
    }
   ],
   "source": [
    "import nltk\n",
    "from nltk.stem import LancasterStemmer\n",
    "stemmerLan=LancasterStemmer()\n",
    "# stemmerLan.stem('happiness')\n",
    "stemmerLan.stem('coming')"
   ]
  },
  {
   "cell_type": "markdown",
   "id": "755cd48a",
   "metadata": {},
   "source": [
    "'Happiness' is correctly stemmed by LancasterStemmer but not by PorterStemmer"
   ]
  },
  {
   "cell_type": "markdown",
   "id": "d8948301",
   "metadata": {},
   "source": [
    "'Coming' and 'Going' are correctly stemmed by PorterStemmer but not by LancasterStemmer"
   ]
  },
  {
   "cell_type": "code",
   "execution_count": 18,
   "id": "23df1e07",
   "metadata": {},
   "outputs": [
    {
     "data": {
      "text/plain": [
       "'s'"
      ]
     },
     "execution_count": 18,
     "metadata": {},
     "output_type": "execute_result"
    }
   ],
   "source": [
    "import nltk\n",
    "from nltk.stem import RegexpStemmer\n",
    "Stemmerregexp=RegexpStemmer('ing')\n",
    "Stemmerregexp.stem('singing')"
   ]
  },
  {
   "cell_type": "code",
   "execution_count": 26,
   "id": "f8e587f5",
   "metadata": {},
   "outputs": [
    {
     "data": {
      "text/plain": [
       "'mang'"
      ]
     },
     "execution_count": 26,
     "metadata": {},
     "output_type": "execute_result"
    }
   ],
   "source": [
    "import nltk\n",
    "from nltk.stem import SnowballStemmer\n",
    "SnowballStemmer.languages\n",
    "frenchstemmer=SnowballStemmer('french')\n",
    "frenchstemmer.stem('manges')"
   ]
  },
  {
   "cell_type": "markdown",
   "id": "622ea0cb",
   "metadata": {},
   "source": [
    "# Task 7: Stemming Paragraphs"
   ]
  },
  {
   "cell_type": "code",
   "execution_count": 25,
   "id": "42144cc2",
   "metadata": {},
   "outputs": [
    {
     "name": "stdout",
     "output_type": "stream",
     "text": [
      "the vit also vid (bulgarian: вит; latin: utus) is a river in central northern bulgaria with a length of 188 km. it is a tributari of danube. the sourc of the vit is in stara planina, below vezhen peak at an altitud of 2,030 m, and it empti into the danub close to somovit. the river ha a watersh area of 3,228 km2, it main tributari be kamenska reka, kalnik and tuchenitsa.town on or close to the river includ teteven, pleven, dolni dabnik, dolna mitropoliya and gulyantsi.th river' name come from thracian utus, a word for water (cf. ie *udes).vit ice piedmont in antarctica is name after the river. \n"
     ]
    }
   ],
   "source": [
    "import nltk\n",
    "from nltk.stem import PorterStemmer\n",
    "#Pangram example\n",
    "Stemmer=PorterStemmer()\n",
    "eg1=\"The quick brown fox jumped over lazy dog\"\n",
    "eg=\"The Vit also Vid (Bulgarian: Вит; Latin: Utus) is a river in central northern Bulgaria with a length of 188 km. It is a tributary of Danube. The source of the Vit is in Stara Planina, below Vezhen Peak at an altitude of 2,030 m, and it empties into the Danube close to Somovit. The river has a watershed area of 3,228 km2, its main tributaries being Kamenska reka, Kalnik and Tuchenitsa.Towns on or close to the river include Teteven, Pleven, Dolni Dabnik, Dolna Mitropoliya and Gulyantsi.The river's name comes from Thracian Utus, a word for water (cf. IE *udes).Vit Ice Piedmont in Antarctica is named after the river. \"\n",
    "eg=[Stemmer.stem(token) for token in eg.split(\" \")]\n",
    "print(\" \".join(eg))"
   ]
  },
  {
   "cell_type": "markdown",
   "id": "e161b731",
   "metadata": {},
   "source": [
    "# Task 8: Lemmatizer"
   ]
  },
  {
   "cell_type": "code",
   "execution_count": 27,
   "id": "9f965c53",
   "metadata": {},
   "outputs": [
    {
     "name": "stdout",
     "output_type": "stream",
     "text": [
      "cactus\n",
      "formula\n"
     ]
    }
   ],
   "source": [
    "from nltk.stem import WordNetLemmatizer\n",
    "lemmatizer=WordNetLemmatizer()\n",
    "print(lemmatizer.lemmatize('cacti'))\n",
    "print(lemmatizer.lemmatize('formulae'))"
   ]
  },
  {
   "cell_type": "code",
   "execution_count": 30,
   "id": "74ada70f",
   "metadata": {},
   "outputs": [
    {
     "name": "stdout",
     "output_type": "stream",
     "text": [
      "good\n"
     ]
    }
   ],
   "source": [
    "print(lemmatizer.lemmatize('better',pos='a'))"
   ]
  },
  {
   "cell_type": "markdown",
   "id": "2bdd2f82",
   "metadata": {},
   "source": [
    "# Task 9: Chinese Segmentation"
   ]
  },
  {
   "cell_type": "code",
   "execution_count": 31,
   "id": "6f130023",
   "metadata": {},
   "outputs": [
    {
     "name": "stdout",
     "output_type": "stream",
     "text": [
      "Collecting jieba\n",
      "  Downloading jieba-0.42.1.tar.gz (19.2 MB)\n",
      "     -------------------------------------- 19.2/19.2 MB 438.5 kB/s eta 0:00:00\n",
      "  Preparing metadata (setup.py): started\n",
      "  Preparing metadata (setup.py): finished with status 'done'\n",
      "Using legacy 'setup.py install' for jieba, since package 'wheel' is not installed.\n",
      "Installing collected packages: jieba\n",
      "  Running setup.py install for jieba: started\n",
      "  Running setup.py install for jieba: finished with status 'done'\n",
      "Successfully installed jieba-0.42.1\n",
      "\n",
      "[notice] A new release of pip available: 22.1.2 -> 22.2\n",
      "[notice] To update, run: python.exe -m pip install --upgrade pip\n",
      "Note: you may need to restart the kernel to use updated packages.\n"
     ]
    }
   ],
   "source": [
    "pip install jieba"
   ]
  },
  {
   "cell_type": "code",
   "execution_count": 33,
   "id": "2fd808fa",
   "metadata": {},
   "outputs": [
    {
     "name": "stdout",
     "output_type": "stream",
     "text": [
      "\n"
     ]
    }
   ],
   "source": [
    "import jieba\n",
    "seg=jieba.cut(\"copy chinese text\")\n",
    "print(\" \".join(seg))"
   ]
  },
  {
   "cell_type": "code",
   "execution_count": null,
   "id": "c46aa615",
   "metadata": {},
   "outputs": [],
   "source": [
    "from text in texts:\n",
    "    sentences=nltk.sent_tokenize(sentence)\n",
    "    for sentence in sentences:\n",
    "        words=nltk.word_tokenize(sen)\n",
    "        "
   ]
  }
 ],
 "metadata": {
  "kernelspec": {
   "display_name": "Python 3 (ipykernel)",
   "language": "python",
   "name": "python3"
  },
  "language_info": {
   "codemirror_mode": {
    "name": "ipython",
    "version": 3
   },
   "file_extension": ".py",
   "mimetype": "text/x-python",
   "name": "python",
   "nbconvert_exporter": "python",
   "pygments_lexer": "ipython3",
   "version": "3.10.1"
  }
 },
 "nbformat": 4,
 "nbformat_minor": 5
}
